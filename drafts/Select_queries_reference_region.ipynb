{
 "cells": [
  {
   "cell_type": "markdown",
   "id": "a3846ae9-a711-46c0-a0ea-8a3a10fe2aec",
   "metadata": {},
   "source": [
    "# Select queries to map on part of reference"
   ]
  },
  {
   "cell_type": "code",
   "execution_count": 10,
   "id": "e2443c9d-21de-4067-a1dd-a5e80a6be1df",
   "metadata": {},
   "outputs": [],
   "source": [
    "from Bio import SeqIO\n",
    "import gzip"
   ]
  },
  {
   "cell_type": "code",
   "execution_count": 11,
   "id": "b7c42ae9-28a3-4694-ab07-62d4afec8dba",
   "metadata": {},
   "outputs": [],
   "source": [
    "def write_subseq_to_fasta(input_file, output_file, lower, upper, i):\n",
    "    '''\n",
    "    Write a subsequence from a fasta entry to a separate fasta file.\n",
    "    '''\n",
    "    records = list(SeqIO.parse(input_file, \"fasta\"))\n",
    "    records[i].seq = records[i].seq[lower-1:upper-1]\n",
    "    SeqIO.write(records, output_file, \"fasta\")"
   ]
  },
  {
   "cell_type": "code",
   "execution_count": 12,
   "id": "98c7b126-22d2-4ba1-bdad-ea6054646cbd",
   "metadata": {},
   "outputs": [],
   "source": [
    "def write_queries_to_fastq(input_file, output_file, query_list):\n",
    "    '''\n",
    "    Write a list of queries to a fastq file.\n",
    "    '''\n",
    "    records = []\n",
    "    for record in SeqIO.parse(gzip.open(input_file, \"rt\"),\"fastq\"):\n",
    "        if record.id in query_list:\n",
    "            records.append(record)\n",
    "    SeqIO.write(records, output_file, \"fastq\")"
   ]
  },
  {
   "cell_type": "code",
   "execution_count": 13,
   "id": "86515427-b2a5-42fd-b644-d3487a1d856d",
   "metadata": {},
   "outputs": [],
   "source": [
    "write_subseq_to_fasta(\"../data/2022-09-21_amoxicillin_run_vial_14_time_14/ref_genome.fa\", \"../results/ref_genome_subseq.fa\", 3950000, 4050000, 0)\n",
    "query_list = [\"d82bb180-bfcf-4f19-b0f5-92ddfd7a950b\", \"1cc8043e-4ac7-41c8-ac72-6a1eab8f6d19\", \"bf6d9ba9-1063-4a88-aceb-4a9c257bca47\", \"fc96be32-a462-4dc3-9cdc-0361db1988c0\", \"abfef2df-af37-4ef5-b6bc-cd6dfae662a4\", \"13ebfd23-fdbf-401b-8c95-7a0794f5e947\", \"2b8a7c83-939b-4b7d-a60b-bcd3b3a61c34\", \"224b1090-59e5-4138-9aca-df79398e0336\", \"a3b06e8a-64be-4461-af06-2e5daa399603\", \"b23ad628-5719-4496-8734-329f6c0e9af5\", \"b6a83720-57bd-4532-ae6f-d3cdff119a59\", \"e764358d-3964-4948-bcf1-0169990a4a92\"]\n",
    "write_queries_to_fastq(\"../data/2022-09-21_amoxicillin_run_vial_14_time_14/reads.fastq.gz\", \"../results/queries.fastq\", query_list)"
   ]
  },
  {
   "cell_type": "code",
   "execution_count": 14,
   "id": "057104d6",
   "metadata": {},
   "outputs": [],
   "source": [
    "write_subseq_to_fasta(\"../data/2022-09-21_amoxicillin_run_vial_14_time_14/ref_genome.fa\", \"../results/35e5bp.fa\", 3502046, 3503200, 0)\n",
    "write_subseq_to_fasta(\"../data/2022-09-21_amoxicillin_run_vial_14_time_14/ref_genome.fa\", \"../results/40e5bp.fa\", 4027963, 4029100, 0)\n",
    "write_subseq_to_fasta(\"../data/2022-09-21_amoxicillin_run_vial_14_time_14/ref_genome.fa\", \"../results/376e4.fa\", 3762596, 3770895, 0)\n",
    "write_subseq_to_fasta(\"../data/2022-09-21_amoxicillin_run_vial_14_time_14/ref_genome.fa\", \"../results/18e5.fa\", 182454, 192149, 0)\n"
   ]
  }
 ],
 "metadata": {
  "kernelspec": {
   "display_name": "Python 3 (ipykernel)",
   "language": "python",
   "name": "python3"
  },
  "language_info": {
   "codemirror_mode": {
    "name": "ipython",
    "version": 3
   },
   "file_extension": ".py",
   "mimetype": "text/x-python",
   "name": "python",
   "nbconvert_exporter": "python",
   "pygments_lexer": "ipython3",
   "version": "3.9.15 | packaged by conda-forge | (main, Nov 22 2022, 08:55:37) \n[Clang 14.0.6 ]"
  },
  "vscode": {
   "interpreter": {
    "hash": "f5e0765233de07808d8fc620ac8a8fa5bee4c3024d4201e43cddb4560db45935"
   }
  }
 },
 "nbformat": 4,
 "nbformat_minor": 5
}
