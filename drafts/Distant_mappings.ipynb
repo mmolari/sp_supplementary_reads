{
 "cells": [
  {
   "attachments": {},
   "cell_type": "markdown",
   "id": "d0212be1-5caa-41a5-a031-f18498fb8e7d",
   "metadata": {},
   "source": [
    "# Distant mappings"
   ]
  },
  {
   "cell_type": "code",
   "execution_count": null,
   "id": "86a308a8-6afe-48a8-97d9-08bd9e9e3e3f",
   "metadata": {},
   "outputs": [],
   "source": [
    "import numpy as np\n",
    "import pandas as pd\n",
    "import matplotlib.pyplot as plt"
   ]
  },
  {
   "cell_type": "code",
   "execution_count": null,
   "id": "98d10ca5-20d1-4e0a-9366-377e01c013a6",
   "metadata": {},
   "outputs": [],
   "source": [
    "csv_distant = \"../results/distant_mappings.csv\"\n",
    "csv_all = \"../results/suppl_reads_info.csv\"\n",
    "df_distant = pd.read_csv(csv_distant)\n",
    "df_all = pd.read_csv(csv_all)\n",
    "\n",
    "# Get list of supplementary query names\n",
    "query_names = []\n",
    "for q in df_all.itertuples():\n",
    "    query_names.append(q.query_name)\n",
    "\n",
    "# Get list of distant query names\n",
    "distant = []\n",
    "for q in df_distant.itertuples():\n",
    "    if q.query_name in query_names:\n",
    "        distant.append(q)\n",
    "\n",
    "# Write distant queries to csv\n",
    "distant_df = pd.DataFrame(distant)\n",
    "distant_df.to_csv(\"../results/distant_mappings_info.csv\")"
   ]
  },
  {
   "cell_type": "code",
   "execution_count": null,
   "id": "160db7a8-a8e5-43d7-8a50-0b47dd8f6755",
   "metadata": {},
   "outputs": [],
   "source": [
    "def plot_query_to_ref_distant(df, query_name):\n",
    "    '''\n",
    "    Plot positions of query mappings. Reverse mappings are indicated with a dotted line.\n",
    "    Primary mappings are black, secondary blue, and supplementary red.\n",
    "    '''\n",
    "    query_df = df[df[\"query_name\"] == query_name]\n",
    "    query_shift = np.min(query_df[\"ref_start\"])\n",
    "    i = 0\n",
    "    for row in query_df.itertuples():\n",
    "        color = \"k\"\n",
    "        if row.type == \"secondary\":\n",
    "            color = \"b\"\n",
    "        elif row.type == \"supplementary\":\n",
    "            color = \"r\"\n",
    "        style = \"-\" if row.is_forward else \":\"\n",
    "        start = np.min([row.query_start, row.query_end])\n",
    "        end  = np.max([row.query_start, row.query_end])\n",
    "        plt.plot([start,end],[i,i],c=color,ls=style,lw=5)\n",
    "        i -= 1\n",
    "    plt.title(query_name)\n",
    "    ax = plt.gca()\n",
    "    ax.get_yaxis().set_visible(False)\n",
    "    plt.xlabel(\"Query position\")\n",
    "    plt.savefig(\"../results/figures/distant_mapping_{0}.png\".format(query_name))\n",
    "    plt.show()"
   ]
  },
  {
   "cell_type": "code",
   "execution_count": null,
   "id": "65029ab2",
   "metadata": {},
   "outputs": [],
   "source": [
    "# Plot diagonal\n",
    "diag = []\n",
    "for q in df_all.itertuples():\n",
    "    if q.query_name not in distant: # only reads that don't have distant mapping (but may have close)\n",
    "        diag.append(q.query_name)\n",
    "diag = np.unique(diag)\n",
    "print(len(diag))\n",
    "\n",
    "for q in diag: # query_names: # plot distant\n",
    "    plot_query_to_ref_distant(df_all, q)"
   ]
  },
  {
   "cell_type": "code",
   "execution_count": null,
   "id": "2479aa57",
   "metadata": {},
   "outputs": [],
   "source": []
  },
  {
   "cell_type": "markdown",
   "id": "ba750c58",
   "metadata": {},
   "source": []
  }
 ],
 "metadata": {
  "kernelspec": {
   "display_name": "Python 3 (ipykernel)",
   "language": "python",
   "name": "python3"
  },
  "language_info": {
   "codemirror_mode": {
    "name": "ipython",
    "version": 3
   },
   "file_extension": ".py",
   "mimetype": "text/x-python",
   "name": "python",
   "nbconvert_exporter": "python",
   "pygments_lexer": "ipython3",
   "version": "3.9.15"
  },
  "vscode": {
   "interpreter": {
    "hash": "f5e0765233de07808d8fc620ac8a8fa5bee4c3024d4201e43cddb4560db45935"
   }
  }
 },
 "nbformat": 4,
 "nbformat_minor": 5
}
